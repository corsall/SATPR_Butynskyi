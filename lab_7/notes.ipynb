{
 "cells": [
  {
   "cell_type": "markdown",
   "metadata": {},
   "source": [
    "### Приклад відносної більшості та абсолютної більшості"
   ]
  },
  {
   "cell_type": "code",
   "execution_count": 4,
   "metadata": {},
   "outputs": [
    {
     "name": "stdout",
     "output_type": "stream",
     "text": [
      "['A' 'B' 'C' 'D']\n"
     ]
    }
   ],
   "source": [
    "import numpy as np\n",
    "\n",
    "candidates = np.array([['B', \"C\", \"A\", \"B\"],\n",
    "                   [\"C\", \"A\", \"B\", \"C\"],\n",
    "                   [\"D\", \"B\", \"C\", \"D\"],\n",
    "                   [\"A\", \"D\", \"D\", \"A\"]])\n",
    "\n",
    "values = np.array([5, 6, 7, 2])\n",
    "\n",
    "def compressArray(array):\n",
    "    for col_index in range(array.shape[1]):\n",
    "        column = array[:, col_index]\n",
    "        non_empty_values = column[column != \"\"]\n",
    "        column[:] = \"\"\n",
    "\n",
    "        column[:len(non_empty_values)] = non_empty_values\n",
    "\n",
    "    non_empty_rows = ~np.all(array == \"\", axis=1)\n",
    "    array = array[non_empty_rows]\n",
    "\n",
    "    return array\n",
    "\n",
    "def removeCandidate(candidatesArray, candidate):\n",
    "    indexes = np.argwhere(candidatesArray==candidate)\n",
    "    for index in indexes:\n",
    "        col = index[0]\n",
    "        row = index[1]\n",
    "        candidatesArray[col, row] = \"\"\n",
    "    return compressArray(candidatesArray)\n",
    "\n",
    "def relative(canditatesArray, values):\n",
    "    result = {\"A\": 0, \"B\": 0, \"C\": 0, \"D\": 0, }\n",
    "\n",
    "    for index, value in np.ndenumerate(values):\n",
    "        candidate = canditatesArray[0][index]\n",
    "        result[candidate] += value\n",
    "    return result\n",
    "\n",
    "relativeCandidates = candidates.copy()\n",
    "votes = []\n",
    "\n",
    "for i in range(np.shape(candidates)[1]):\n",
    "    relativeArray = relative(relativeCandidates, values)\n",
    "    top_student = max(relativeArray, key=relativeArray.get)\n",
    "\n",
    "    votes = np.append(votes, top_student)\n",
    "\n",
    "    relativeCandidates = removeCandidate(relativeCandidates, top_student)\n",
    "    \n",
    "print(votes)"
   ]
  }
 ],
 "metadata": {
  "kernelspec": {
   "display_name": "base",
   "language": "python",
   "name": "python3"
  },
  "language_info": {
   "codemirror_mode": {
    "name": "ipython",
    "version": 3
   },
   "file_extension": ".py",
   "mimetype": "text/x-python",
   "name": "python",
   "nbconvert_exporter": "python",
   "pygments_lexer": "ipython3",
   "version": "3.11.5"
  }
 },
 "nbformat": 4,
 "nbformat_minor": 2
}
