{
 "cells": [
  {
   "cell_type": "markdown",
   "metadata": {},
   "source": [
    "### Методом Північно-західного кута"
   ]
  },
  {
   "cell_type": "code",
   "execution_count": 1,
   "metadata": {},
   "outputs": [],
   "source": [
    "import numpy as np\n",
    "\n",
    "def my_northwest_corner_method(supply, demand, costs):\n",
    "    result_matrix = np.zeros((len(supply), len(demand)))\n",
    "\n",
    "    i, j = 0, 0\n",
    "\n",
    "    while i < len(supply) and j < len(demand):\n",
    "        quantity = min(supply[i], demand[j])\n",
    "\n",
    "        result_matrix[i, j] = quantity\n",
    "\n",
    "        supply[i] -= quantity\n",
    "        demand[j] -= quantity\n",
    "\n",
    "        if supply[i] == 0:\n",
    "            i += 1\n",
    "        else:\n",
    "            j += 1\n",
    "\n",
    "    return result_matrix\n",
    "\n",
    "def calculate_total_cost(result_matrix, costs):\n",
    "    total_cost = np.sum(result_matrix * costs)\n",
    "    return total_cost"
   ]
  },
  {
   "cell_type": "code",
   "execution_count": 2,
   "metadata": {},
   "outputs": [
    {
     "name": "stdout",
     "output_type": "stream",
     "text": [
      "Матриця відповідей:\n",
      "\n",
      "[[140.  90.   0.   0.   0.]\n",
      " [  0.   0. 160.  90.   0.]\n",
      " [  0.   0.   0.  20. 150.]]\n",
      "\n",
      "Загальна ціна перевезень: 20800.0\n"
     ]
    }
   ],
   "source": [
    "s = [230, 250, 170] \n",
    "d = [140,    90,    160,    110,    150] \n",
    "c = np.array([\n",
    "[40,    19,    25,    25,    35],\n",
    "[49,    26,    27,    18,    38],\n",
    "[49,    27,    36,    40,    45]])\n",
    "\n",
    "matrix = my_northwest_corner_method(s, d, c)\n",
    "print(\"Матриця відповідей:\\n\")\n",
    "print(matrix)\n",
    "\n",
    "total_cost = calculate_total_cost(matrix, c)\n",
    "print(\"\\nЗагальна ціна перевезень:\", total_cost)"
   ]
  },
  {
   "cell_type": "markdown",
   "metadata": {},
   "source": [
    "#### Значення з excel збігаються"
   ]
  },
  {
   "cell_type": "markdown",
   "metadata": {},
   "source": [
    "### Транспортна проблема з потенціалами"
   ]
  },
  {
   "cell_type": "code",
   "execution_count": 8,
   "metadata": {},
   "outputs": [
    {
     "name": "stdout",
     "output_type": "stream",
     "text": [
      "Статус: 1\n",
      "Оптимальне значення (ціна): 21620\n",
      "Доставити 190 товару з сховища 1 до запиту 3\n",
      "Доставити 10 товару з сховища 1 до запиту 5\n",
      "Доставити 130 товару з сховища 2 до запиту 2\n",
      "Доставити 120 товару з сховища 2 до запиту 4\n",
      "Доставити 100 товару з сховища 2 до запиту 5\n",
      "Доставити 270 товару з сховища 3 до запиту 1\n",
      "Доставити 30 товару з сховища 3 до запиту 4\n"
     ]
    }
   ],
   "source": [
    "from pulp import LpProblem, LpVariable, lpSum, LpMinimize\n",
    "\n",
    "supply2 = [200, 350, 300]\n",
    "demand2 = [270, 130, 190, 150, 110]\n",
    "costs2 = [\n",
    "    [24, 50, 5, 27, 16],\n",
    "    [50, 47, 23, 17, 21],\n",
    "    [35, 59, 55, 27, 41]\n",
    "]\n",
    "\n",
    "prob = LpProblem(\"Transportation_Problem\", LpMinimize)\n",
    "\n",
    "routes = [(i, j) for i in range(len(supply2)) for j in range(len(demand2))]\n",
    "x = LpVariable.dicts(\"X\", routes, lowBound=0, cat=\"Integer\")\n",
    "\n",
    "prob += lpSum(x[i, j] * costs2[i][j] for i in range(len(supply2)) for j in range(len(demand2)))\n",
    "\n",
    "for i in range(len(supply2)):\n",
    "    prob += lpSum(x[i, j] for j in range(len(demand2))) == supply2[i]\n",
    "\n",
    "for j in range(len(demand2)):\n",
    "    prob += lpSum(x[i, j] for i in range(len(supply2))) == demand2[j]\n",
    "\n",
    "prob.solve()\n",
    "\n",
    "# Вивід результатів готовою бібліотекою\n",
    "print(\"Статус:\", prob.status)\n",
    "print(\"Оптимальне значення (ціна):\", round(prob.objective.value(), 2))\n",
    "\n",
    "# Виходить така матриця рішень\n",
    "for i in range(len(supply2)):\n",
    "    for j in range(len(demand2)):\n",
    "        if x[i, j].value() > 0:\n",
    "            print(f\"Доставити {x[i, j].value()} товару з сховища {i + 1} до запиту {j + 1}\")\n"
   ]
  }
 ],
 "metadata": {
  "kernelspec": {
   "display_name": "base",
   "language": "python",
   "name": "python3"
  },
  "language_info": {
   "codemirror_mode": {
    "name": "ipython",
    "version": 3
   },
   "file_extension": ".py",
   "mimetype": "text/x-python",
   "name": "python",
   "nbconvert_exporter": "python",
   "pygments_lexer": "ipython3",
   "version": "3.11.5"
  }
 },
 "nbformat": 4,
 "nbformat_minor": 2
}
