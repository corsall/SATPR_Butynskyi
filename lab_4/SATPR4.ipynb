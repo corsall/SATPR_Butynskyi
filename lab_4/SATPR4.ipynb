{
 "cells": [
  {
   "cell_type": "code",
   "execution_count": 48,
   "id": "initial_id",
   "metadata": {
    "ExecuteTime": {
     "end_time": "2023-11-08T19:22:37.078435900Z",
     "start_time": "2023-11-08T19:22:37.004733600Z"
    },
    "collapsed": true
   },
   "outputs": [
    {
     "name": "stdout",
     "output_type": "stream",
     "text": [
      "λ:  0.16666666666666666\n",
      "\n",
      "p:  [0.1        0.2        0.16666667 0.26666667 0.26666667]\n",
      "\n",
      "Values:\n",
      " [[180 140   3 233 232]\n",
      " [420 150 140 220 100]\n",
      " [ 49 315  35  49 210]\n",
      " [260   3   9 210 201]]\n"
     ]
    }
   ],
   "source": [
    "import numpy as np\n",
    "\n",
    "k = 3\n",
    "\n",
    "values = np.array([[180, 140, k, 245 - 4*k, 232],\n",
    "                   [420, 120 + 10*k, 140, 220, 100],\n",
    "                   [25 + 8*k, 315, 35, 49, 10 * (k+23) - 50],\n",
    "                   [290 - 10*k, k, 9, 100*k -90, 201]])\n",
    "\n",
    "alpha = 1 / (k + 3) if(1 <= k <= 12) else 4/k \n",
    "\n",
    "print(\"λ: \", alpha)\n",
    "\n",
    "p = np.array([0.1, 0.2, alpha, alpha + 0.1, 0.6 - 2*alpha])\n",
    "\n",
    "print(\"\\np: \", p)\n",
    "print(\"\\nValues:\\n\", values)\n"
   ]
  },
  {
   "cell_type": "markdown",
   "id": "fb9744ff6fbdbd0b",
   "metadata": {
    "collapsed": false
   },
   "source": [
    "## Оптимізм"
   ]
  },
  {
   "cell_type": "code",
   "execution_count": 49,
   "id": "c15e5ab5",
   "metadata": {},
   "outputs": [
    {
     "name": "stdout",
     "output_type": "stream",
     "text": [
      "Результати для оптимізму [233 420 315 260]\n",
      "Найкращий варіант 1\n"
     ]
    }
   ],
   "source": [
    "optMaxValues = np.max(values, 1)\n",
    "\n",
    "print(\"Результати для оптимізму\", optMaxValues)\n",
    "print(\"Найкращий варіант\", np.argmin(optMaxValues)+1)"
   ]
  },
  {
   "cell_type": "markdown",
   "id": "f397035723a11b6",
   "metadata": {
    "collapsed": false
   },
   "source": [
    "## Песимізм"
   ]
  },
  {
   "cell_type": "code",
   "execution_count": 50,
   "id": "1cc18edb3bee7cd5",
   "metadata": {
    "ExecuteTime": {
     "end_time": "2023-11-08T19:22:37.120784700Z",
     "start_time": "2023-11-08T19:22:37.016738200Z"
    },
    "collapsed": false
   },
   "outputs": [
    {
     "name": "stdout",
     "output_type": "stream",
     "text": [
      "Результати для песимізму [  3 100  35   3]\n",
      "Найкращий варіант 2\n"
     ]
    }
   ],
   "source": [
    "pesMinValues = np.min(values, 1)\n",
    "\n",
    "print(\"Результати для песимізму\", pesMinValues)\n",
    "print(\"Найкращий варіант\", np.argmax(pesMinValues)+1)\n"
   ]
  },
  {
   "cell_type": "markdown",
   "id": "ec38f125cc65fe56",
   "metadata": {
    "collapsed": false
   },
   "source": [
    "## Використовуючи формулу Гурвіца"
   ]
  },
  {
   "cell_type": "code",
   "execution_count": 51,
   "id": "3df27f609dce8bac",
   "metadata": {
    "ExecuteTime": {
     "end_time": "2023-11-08T19:22:37.137265400Z",
     "start_time": "2023-11-08T19:22:37.048256500Z"
    },
    "collapsed": false
   },
   "outputs": [
    {
     "name": "stdout",
     "output_type": "stream",
     "text": [
      "Результати за Гурвіцом [194.66666667 366.66666667 268.33333333 217.16666667]\n",
      "Найкращий варіант 2\n"
     ]
    }
   ],
   "source": [
    "hurvitsValues = np.min(values,1) * alpha + (1-alpha) * np.max(values,1)\n",
    "\n",
    "print(\"Результати за Гурвіцом\", hurvitsValues)\n",
    "print(\"Найкращий варіант\", np.argmax(hurvitsValues)+1)"
   ]
  },
  {
   "cell_type": "markdown",
   "id": "e44038610e67f778",
   "metadata": {
    "collapsed": false
   },
   "source": [
    "## Використовуючи формулу Лапласа"
   ]
  },
  {
   "cell_type": "code",
   "execution_count": 52,
   "id": "876a78fe1b4deffb",
   "metadata": {
    "ExecuteTime": {
     "end_time": "2023-11-08T19:22:37.148257100Z",
     "start_time": "2023-11-08T19:22:37.063456700Z"
    },
    "collapsed": false
   },
   "outputs": [
    {
     "name": "stdout",
     "output_type": "stream",
     "text": [
      "Результати за Лапласом [157.6 206.  131.6 136.6]\n",
      "Найкращий варіант 2\n"
     ]
    }
   ],
   "source": [
    "laplasValues = np.average(values, 1)\n",
    "\n",
    "print(\"Результати за Лапласом\", laplasValues)\n",
    "print(\"Найкращий варіант\", np.argmax(laplasValues)+1)"
   ]
  },
  {
   "cell_type": "markdown",
   "id": "d8eef895c1212506",
   "metadata": {
    "collapsed": false
   },
   "source": [
    "## Використовуючи формулу Баєс-Лапласа"
   ]
  },
  {
   "cell_type": "code",
   "execution_count": 53,
   "id": "f4397d7434aae359",
   "metadata": {
    "ExecuteTime": {
     "end_time": "2023-11-08T19:22:37.149272Z",
     "start_time": "2023-11-08T19:22:37.077439500Z"
    },
    "collapsed": false
   },
   "outputs": [
    {
     "name": "stdout",
     "output_type": "stream",
     "text": [
      "Результати за Баєсом-Лапласом [170.5        180.66666667 142.8        137.7       ]\n",
      "Найкращий варіант 2\n"
     ]
    }
   ],
   "source": [
    "bayesValues = np.sum(values * p, 1)\n",
    "\n",
    "print(\"Результати за Баєсом-Лапласом\", bayesValues)\n",
    "print(\"Найкращий варіант\", np.argmax(bayesValues)+1)"
   ]
  },
  {
   "cell_type": "markdown",
   "id": "e3e37ba92f88194a",
   "metadata": {
    "collapsed": false
   },
   "source": [
    "## Використовуючи формулу Ходж-Лемана"
   ]
  },
  {
   "cell_type": "code",
   "execution_count": 54,
   "id": "9a2ece1e73a7842a",
   "metadata": {
    "ExecuteTime": {
     "end_time": "2023-11-08T19:22:37.149272Z",
     "start_time": "2023-11-08T19:22:37.094864400Z"
    },
    "collapsed": false
   },
   "outputs": [
    {
     "name": "stdout",
     "output_type": "stream",
     "text": [
      "Результати за Ходж-Леман [ 30.91666667 113.44444444  52.96666667  25.45      ]\n",
      "Найкращий варіантт 2\n"
     ]
    }
   ],
   "source": [
    "lemanValues = (1-alpha) * pesMinValues + bayesValues * alpha\n",
    "\n",
    "print(\"Результати за Ходж-Леман\", lemanValues)\n",
    "print(\"Найкращий варіантт\", np.argmax(lemanValues)+1)"
   ]
  }
 ],
 "metadata": {
  "kernelspec": {
   "display_name": "Python 3",
   "language": "python",
   "name": "python3"
  },
  "language_info": {
   "codemirror_mode": {
    "name": "ipython",
    "version": 3
   },
   "file_extension": ".py",
   "mimetype": "text/x-python",
   "name": "python",
   "nbconvert_exporter": "python",
   "pygments_lexer": "ipython3",
   "version": "3.11.5"
  }
 },
 "nbformat": 4,
 "nbformat_minor": 5
}
