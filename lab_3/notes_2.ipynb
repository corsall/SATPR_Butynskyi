{
 "cells": [
  {
   "cell_type": "markdown",
   "metadata": {},
   "source": [
    "# Який завод обрати"
   ]
  },
  {
   "cell_type": "markdown",
   "metadata": {},
   "source": [
    "### Вхідні параметри"
   ]
  },
  {
   "cell_type": "code",
   "execution_count": 21,
   "metadata": {},
   "outputs": [],
   "source": [
    "years = 5\n",
    "\n",
    "# Варіант А\n",
    "demand_A_big = 0.7\n",
    "income_A_high = 250000\n",
    "income_A_fine = -50000\n",
    "expenses_A = 600000\n",
    "\n",
    "# Варіант В\n",
    "demand_B_big = 0.7\n",
    "income_B_high = 150000\n",
    "income_B_fine= -25000\n",
    "expenses_B = 350000\n",
    "\n",
    "# Варіант С\n",
    "positive_chance_big = 0.9\n",
    "postpone_chance = 0.2\n",
    "years_C = 4"
   ]
  },
  {
   "cell_type": "code",
   "execution_count": 22,
   "metadata": {},
   "outputs": [
    {
     "data": {
      "text/plain": [
       "200000.0"
      ]
     },
     "execution_count": 22,
     "metadata": {},
     "output_type": "execute_result"
    }
   ],
   "source": [
    "# Рахую для A\n",
    "def expected_income(chance, income, years):\n",
    "    return chance * income * years\n",
    "\n",
    "def total_profit(demand_big, income_high, income_fine, expenses, years):\n",
    "    expected_income_high = expected_income(demand_big, income_high, years)\n",
    "    expected_income_low = expected_income((1 - demand_big), income_fine, years)\n",
    "    total_expected_income = expected_income_high + expected_income_low\n",
    "\n",
    "    return total_expected_income - expenses\n",
    "\n",
    "result = []\n",
    "\n",
    "total_profit_A = total_profit(demand_A_big, income_A_high, income_A_fine, expenses_A, years)\n",
    "\n",
    "result.append((total_profit_A, 'A'))\n",
    "\n",
    "total_profit_A"
   ]
  },
  {
   "cell_type": "code",
   "execution_count": 23,
   "metadata": {},
   "outputs": [
    {
     "data": {
      "text/plain": [
       "137500.0"
      ]
     },
     "execution_count": 23,
     "metadata": {},
     "output_type": "execute_result"
    }
   ],
   "source": [
    "# Рахую для B\n",
    "total_profit_B = total_profit(demand_B_big, income_B_high, income_B_fine, expenses_B, years)\n",
    "\n",
    "result.append((total_profit_B, 'B'))\n",
    "\n",
    "total_profit_B"
   ]
  },
  {
   "cell_type": "code",
   "execution_count": 24,
   "metadata": {},
   "outputs": [
    {
     "data": {
      "text/plain": [
       "32000.000000000004"
      ]
     },
     "execution_count": 24,
     "metadata": {},
     "output_type": "execute_result"
    }
   ],
   "source": [
    "#Рахую загальний дохід для С\n",
    "total_profit_A_years_C = total_profit(demand_A_big, income_A_high, income_A_fine, expenses_A, years_C)\n",
    "total_profit_B_years_C = total_profit(demand_B_big, income_B_high, income_B_fine, expenses_B, years_C)\n",
    "\n",
    "total_profit_C = positive_chance_big * (1 - postpone_chance) *  total_profit_A_years_C + (1 - positive_chance_big) * (1 - postpone_chance) * total_profit_B_years_C\n",
    "result.append((total_profit_C, 'C'))\n",
    "\n",
    "total_profit_C"
   ]
  },
  {
   "cell_type": "code",
   "execution_count": 25,
   "metadata": {},
   "outputs": [
    {
     "name": "stdout",
     "output_type": "stream",
     "text": [
      "(200000.0, 'A')\n"
     ]
    }
   ],
   "source": [
    "# Знаходжу найбільше значення загального доходу\n",
    "sorted_data = sorted(result, key=lambda x: x[0])\n",
    "\n",
    "max_pair = sorted_data[-1]\n",
    "\n",
    "print(max_pair)"
   ]
  }
 ],
 "metadata": {
  "kernelspec": {
   "display_name": "base",
   "language": "python",
   "name": "python3"
  },
  "language_info": {
   "codemirror_mode": {
    "name": "ipython",
    "version": 3
   },
   "file_extension": ".py",
   "mimetype": "text/x-python",
   "name": "python",
   "nbconvert_exporter": "python",
   "pygments_lexer": "ipython3",
   "version": "3.11.5"
  }
 },
 "nbformat": 4,
 "nbformat_minor": 2
}
